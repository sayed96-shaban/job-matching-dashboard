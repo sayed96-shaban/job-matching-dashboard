{
 "cells": [
  {
   "cell_type": "code",
   "execution_count": 1,
   "id": "286527db-a9fd-45c3-94a8-1221bd26cfe3",
   "metadata": {},
   "outputs": [
    {
     "name": "stdin",
     "output_type": "stream",
     "text": [
      "Enter your skills separated by commas:  Python\n"
     ]
    },
    {
     "name": "stdout",
     "output_type": "stream",
     "text": [
      "Jobs you qualify for:\n"
     ]
    },
    {
     "data": {
      "text/html": [
       "<div>\n",
       "<style scoped>\n",
       "    .dataframe tbody tr th:only-of-type {\n",
       "        vertical-align: middle;\n",
       "    }\n",
       "\n",
       "    .dataframe tbody tr th {\n",
       "        vertical-align: top;\n",
       "    }\n",
       "\n",
       "    .dataframe thead th {\n",
       "        text-align: right;\n",
       "    }\n",
       "</style>\n",
       "<table border=\"1\" class=\"dataframe\">\n",
       "  <thead>\n",
       "    <tr style=\"text-align: right;\">\n",
       "      <th></th>\n",
       "      <th>role</th>\n",
       "      <th>salary</th>\n",
       "    </tr>\n",
       "  </thead>\n",
       "  <tbody>\n",
       "    <tr>\n",
       "      <th>0</th>\n",
       "      <td>Data Analyst</td>\n",
       "      <td>60000</td>\n",
       "    </tr>\n",
       "    <tr>\n",
       "      <th>1</th>\n",
       "      <td>Data Scientist</td>\n",
       "      <td>85000</td>\n",
       "    </tr>\n",
       "  </tbody>\n",
       "</table>\n",
       "</div>"
      ],
      "text/plain": [
       "             role  salary\n",
       "0    Data Analyst   60000\n",
       "1  Data Scientist   85000"
      ]
     },
     "metadata": {},
     "output_type": "display_data"
    },
    {
     "name": "stdout",
     "output_type": "stream",
     "text": [
      "Average Salary: $72,500\n"
     ]
    }
   ],
   "source": [
    "import pandas as pd\n",
    "from IPython.display import display\n",
    "\n",
    "# Sample dataset\n",
    "jobs_df = pd.DataFrame({\n",
    "    \"role\": [\"Data Analyst\", \"Data Scientist\", \"Backend Developer\"],\n",
    "    \"skills_needed\": [\"Python, SQL, Excel\", \"Python, ML, SQL\", \"Java, SQL\"],\n",
    "    \"salary\": [60000, 85000, 70000]\n",
    "})\n",
    "\n",
    "# Let user enter skills\n",
    "my_skills = input(\"Enter your skills separated by commas: \")  # e.g., Python, SQL\n",
    "\n",
    "# Convert skills string to list\n",
    "skills_list = [skill.strip() for skill in my_skills.split(\",\")]\n",
    "\n",
    "# Filter jobs\n",
    "filtered_jobs = jobs_df[jobs_df['skills_needed'].apply(lambda x: all(skill in x for skill in skills_list))]\n",
    "\n",
    "# Display results\n",
    "print(\"Jobs you qualify for:\")\n",
    "display(filtered_jobs[['role', 'salary']])\n",
    "\n",
    "# Average salary\n",
    "if not filtered_jobs.empty:\n",
    "    avg_salary = filtered_jobs['salary'].mean()\n",
    "    print(f\"Average Salary: ${avg_salary:,.0f}\")\n",
    "else:\n",
    "    print(\"No matching jobs found.\")\n"
   ]
  },
  {
   "cell_type": "code",
   "execution_count": null,
   "id": "f925b7d2-179a-4e53-8c3b-70fbe2f5225c",
   "metadata": {},
   "outputs": [],
   "source": []
  }
 ],
 "metadata": {
  "kernelspec": {
   "display_name": "Python 3 (ipykernel)",
   "language": "python",
   "name": "python3"
  },
  "language_info": {
   "codemirror_mode": {
    "name": "ipython",
    "version": 3
   },
   "file_extension": ".py",
   "mimetype": "text/x-python",
   "name": "python",
   "nbconvert_exporter": "python",
   "pygments_lexer": "ipython3",
   "version": "3.13.3"
  }
 },
 "nbformat": 4,
 "nbformat_minor": 5
}
